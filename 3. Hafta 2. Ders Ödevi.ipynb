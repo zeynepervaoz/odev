{
 "cells": [
  {
   "cell_type": "code",
   "execution_count": null,
   "id": "8b1e52f7",
   "metadata": {},
   "outputs": [],
   "source": [
    "#1Sayılardan oluşan bir boyutlu array oluşturulur. \n",
    "#Arrayi oluştururken sayıların veri tipini integer olarak belirtilir.\n",
    "#Oluşturulan arrayin boyut, eleman sayısı bilgilerine bakılır."
   ]
  },
  {
   "cell_type": "code",
   "execution_count": 107,
   "id": "f525dd60",
   "metadata": {},
   "outputs": [],
   "source": [
    "import numpy as np\n",
    "arr=np.array([1, 2, 3, 4, 5,6,7,8,9,10], dtype=int)"
   ]
  },
  {
   "cell_type": "code",
   "execution_count": 108,
   "id": "2faffd85",
   "metadata": {},
   "outputs": [
    {
     "name": "stdout",
     "output_type": "stream",
     "text": [
      "1\n"
     ]
    }
   ],
   "source": [
    "print(arr.ndim)"
   ]
  },
  {
   "cell_type": "code",
   "execution_count": 109,
   "id": "17915eac",
   "metadata": {},
   "outputs": [
    {
     "name": "stdout",
     "output_type": "stream",
     "text": [
      "10\n"
     ]
    }
   ],
   "source": [
    "print(arr.size)"
   ]
  },
  {
   "cell_type": "code",
   "execution_count": null,
   "id": "7301e856",
   "metadata": {},
   "outputs": [],
   "source": [
    "#2İki ve üç boyutlu arrayler oluşturulur. \n",
    "#Bu arraylerin boyut, eleman sayısı, satır, sütun bilgilerine ulaşılır.\n",
    "#Arrayler üzerinde indexleme ve dilimleme(slicing) işlemi yapılır."
   ]
  },
  {
   "cell_type": "code",
   "execution_count": 48,
   "id": "548236ba",
   "metadata": {},
   "outputs": [],
   "source": [
    "arr2=np.array([[1,2,3,4,5],[6,7,8,9,10]])\n",
    "arr3=np.array([[[1,2,3],[4,5,6],[7,8,9],[10,11,12]]])"
   ]
  },
  {
   "cell_type": "code",
   "execution_count": 49,
   "id": "3c4d830d",
   "metadata": {},
   "outputs": [
    {
     "name": "stdout",
     "output_type": "stream",
     "text": [
      "2\n",
      "3\n"
     ]
    }
   ],
   "source": [
    "print(arr2.ndim) \n",
    "print(arr3.ndim)"
   ]
  },
  {
   "cell_type": "code",
   "execution_count": 50,
   "id": "b0d49890",
   "metadata": {},
   "outputs": [
    {
     "name": "stdout",
     "output_type": "stream",
     "text": [
      "10\n",
      "12\n"
     ]
    }
   ],
   "source": [
    "print(arr2.size)\n",
    "print(arr3.size)"
   ]
  },
  {
   "cell_type": "code",
   "execution_count": 51,
   "id": "5fe8b408",
   "metadata": {},
   "outputs": [
    {
     "data": {
      "text/plain": [
       "(2, 5)"
      ]
     },
     "execution_count": 51,
     "metadata": {},
     "output_type": "execute_result"
    }
   ],
   "source": [
    "np.shape(arr2)"
   ]
  },
  {
   "cell_type": "code",
   "execution_count": 52,
   "id": "1fc9a948",
   "metadata": {},
   "outputs": [
    {
     "data": {
      "text/plain": [
       "(1, 4, 3)"
      ]
     },
     "execution_count": 52,
     "metadata": {},
     "output_type": "execute_result"
    }
   ],
   "source": [
    "np.shape(arr3)"
   ]
  },
  {
   "cell_type": "code",
   "execution_count": 53,
   "id": "8d3eee3b",
   "metadata": {},
   "outputs": [
    {
     "data": {
      "text/plain": [
       "array([[ 1,  2,  3,  4,  5],\n",
       "       [ 6,  7,  8,  9, 10]])"
      ]
     },
     "execution_count": 53,
     "metadata": {},
     "output_type": "execute_result"
    }
   ],
   "source": [
    "arr2"
   ]
  },
  {
   "cell_type": "code",
   "execution_count": 54,
   "id": "e64185f3",
   "metadata": {},
   "outputs": [
    {
     "data": {
      "text/plain": [
       "array([[[ 1,  2,  3],\n",
       "        [ 4,  5,  6],\n",
       "        [ 7,  8,  9],\n",
       "        [10, 11, 12]]])"
      ]
     },
     "execution_count": 54,
     "metadata": {},
     "output_type": "execute_result"
    }
   ],
   "source": [
    "arr3"
   ]
  },
  {
   "cell_type": "code",
   "execution_count": 55,
   "id": "a0705d15",
   "metadata": {},
   "outputs": [
    {
     "data": {
      "text/plain": [
       "10"
      ]
     },
     "execution_count": 55,
     "metadata": {},
     "output_type": "execute_result"
    }
   ],
   "source": [
    "#arr2 de 1. satır 4. elemana ulaşalım.\n",
    "arr2[1,-1] or arr2[1,4]"
   ]
  },
  {
   "cell_type": "code",
   "execution_count": 56,
   "id": "ccbb0f70",
   "metadata": {},
   "outputs": [
    {
     "data": {
      "text/plain": [
       "8"
      ]
     },
     "execution_count": 56,
     "metadata": {},
     "output_type": "execute_result"
    }
   ],
   "source": [
    "#arr3 de 2. satır 1. elemana ulaşalım.\n",
    "arr3[0,2,1]"
   ]
  },
  {
   "cell_type": "code",
   "execution_count": 57,
   "id": "2394ecc3",
   "metadata": {},
   "outputs": [
    {
     "data": {
      "text/plain": [
       "array([ 5, 10])"
      ]
     },
     "execution_count": 57,
     "metadata": {},
     "output_type": "execute_result"
    }
   ],
   "source": [
    "#5,10 sayıslarını seçelim.\n",
    "arr2[:,-1]"
   ]
  },
  {
   "cell_type": "code",
   "execution_count": 67,
   "id": "08c09831",
   "metadata": {},
   "outputs": [
    {
     "data": {
      "text/plain": [
       "array([[2, 3, 4],\n",
       "       [7, 8, 9]])"
      ]
     },
     "execution_count": 67,
     "metadata": {},
     "output_type": "execute_result"
    }
   ],
   "source": [
    "#2,3,4,7,8,9 sayılarını seçelim.\n",
    "arr2[::,1:4]"
   ]
  },
  {
   "cell_type": "code",
   "execution_count": 69,
   "id": "a6d1dd15",
   "metadata": {},
   "outputs": [
    {
     "data": {
      "text/plain": [
       "array([[ 8,  9],\n",
       "       [11, 12]])"
      ]
     },
     "execution_count": 69,
     "metadata": {},
     "output_type": "execute_result"
    }
   ],
   "source": [
    "#8,9,11,12 sayılarını seçelim.\n",
    "arr3[0,2:,1:]"
   ]
  },
  {
   "cell_type": "code",
   "execution_count": 70,
   "id": "c6b5efb0",
   "metadata": {},
   "outputs": [
    {
     "data": {
      "text/plain": [
       "array([1, 4, 7])"
      ]
     },
     "execution_count": 70,
     "metadata": {},
     "output_type": "execute_result"
    }
   ],
   "source": [
    "#1,4,7 sayılarını seçelim.\n",
    "arr3[0,0:3,0]"
   ]
  },
  {
   "cell_type": "code",
   "execution_count": null,
   "id": "8e5075de",
   "metadata": {},
   "outputs": [],
   "source": [
    "#3Numpy fonksiyonu kullanarak bir, iki ve üç boyutlu arrayler oluşturulur. \n",
    "#Arrayler üzerinde indexleme ve dilimleme(slicing) işlemi yapılır"
   ]
  },
  {
   "cell_type": "code",
   "execution_count": 84,
   "id": "4fe128fb",
   "metadata": {},
   "outputs": [],
   "source": [
    "import numpy as np"
   ]
  },
  {
   "cell_type": "code",
   "execution_count": 87,
   "id": "c9a9ee67",
   "metadata": {},
   "outputs": [],
   "source": [
    "arr4=np.array([8,7,6,5,4])\n",
    "arr5=np.array([[5,12,14,17,20],[3,7,9,11,13]])\n",
    "arr6=np.array([[[2,4,6,8,16]],[[98,96,94,92,90]]])"
   ]
  },
  {
   "cell_type": "code",
   "execution_count": 99,
   "id": "d13b43c7",
   "metadata": {},
   "outputs": [
    {
     "data": {
      "text/plain": [
       "4"
      ]
     },
     "execution_count": 99,
     "metadata": {},
     "output_type": "execute_result"
    }
   ],
   "source": [
    "arr4[4]"
   ]
  },
  {
   "cell_type": "code",
   "execution_count": 95,
   "id": "986b223e",
   "metadata": {},
   "outputs": [
    {
     "data": {
      "text/plain": [
       "13"
      ]
     },
     "execution_count": 95,
     "metadata": {},
     "output_type": "execute_result"
    }
   ],
   "source": [
    "arr5[1,4]"
   ]
  },
  {
   "cell_type": "code",
   "execution_count": 97,
   "id": "557b8c61",
   "metadata": {},
   "outputs": [
    {
     "data": {
      "text/plain": [
       "6"
      ]
     },
     "execution_count": 97,
     "metadata": {},
     "output_type": "execute_result"
    }
   ],
   "source": [
    "arr6[0,0,2]"
   ]
  },
  {
   "cell_type": "code",
   "execution_count": 100,
   "id": "6cce4203",
   "metadata": {},
   "outputs": [
    {
     "data": {
      "text/plain": [
       "array([8, 7, 6, 5, 4])"
      ]
     },
     "execution_count": 100,
     "metadata": {},
     "output_type": "execute_result"
    }
   ],
   "source": [
    "arr4[::]"
   ]
  },
  {
   "cell_type": "code",
   "execution_count": 104,
   "id": "ffb38ab4",
   "metadata": {},
   "outputs": [
    {
     "data": {
      "text/plain": [
       "array([[17, 20],\n",
       "       [11, 13]])"
      ]
     },
     "execution_count": 104,
     "metadata": {},
     "output_type": "execute_result"
    }
   ],
   "source": [
    "arr5[:,3:]"
   ]
  },
  {
   "cell_type": "code",
   "execution_count": 106,
   "id": "813f3161",
   "metadata": {},
   "outputs": [
    {
     "data": {
      "text/plain": [
       "array([[[ 4,  6,  8]],\n",
       "\n",
       "       [[96, 94, 92]]])"
      ]
     },
     "execution_count": 106,
     "metadata": {},
     "output_type": "execute_result"
    }
   ],
   "source": [
    "arr6[:,0:,1:4]"
   ]
  },
  {
   "cell_type": "code",
   "execution_count": null,
   "id": "05d67852",
   "metadata": {},
   "outputs": [],
   "source": [
    "#4Sıfırlardan oluşan ve birlerden oluşan iki tane iki boyutlu array oluşturulur.\n",
    "#Bu arrayler satır ve sütun bazında birleştirilir."
   ]
  },
  {
   "cell_type": "code",
   "execution_count": 118,
   "id": "ed0e0ea2",
   "metadata": {},
   "outputs": [
    {
     "name": "stdout",
     "output_type": "stream",
     "text": [
      "[[1 1 1 1 1 1 1 1 1 1 1 1 1 1 1 1 1 1 1 1 1]]\n"
     ]
    }
   ],
   "source": [
    "arr1=np.array([1,1,1,1,1,1,1,1,1,1,1,1,1,1,1,1,1,1,1,1,1],ndmin=2)\n",
    "print(arr1)"
   ]
  },
  {
   "cell_type": "code",
   "execution_count": 119,
   "id": "aeb817ff",
   "metadata": {},
   "outputs": [
    {
     "name": "stdout",
     "output_type": "stream",
     "text": [
      "[[0 0 0 0 0 0 0 0 0 0 0 0 0 0 0 0 0 0 0 0 0]]\n"
     ]
    }
   ],
   "source": [
    "arr0=np.array([0,0,0,0,0,0,0,0,0,0,0,0,0,0,0,0,0,0,0,0,0,],ndmin=2)\n",
    "print(arr0)"
   ]
  },
  {
   "cell_type": "code",
   "execution_count": 120,
   "id": "347b20fc",
   "metadata": {},
   "outputs": [
    {
     "data": {
      "text/plain": [
       "array([[1, 1, 1, 1, 1, 1, 1, 1, 1, 1, 1, 1, 1, 1, 1, 1, 1, 1, 1, 1, 1],\n",
       "       [0, 0, 0, 0, 0, 0, 0, 0, 0, 0, 0, 0, 0, 0, 0, 0, 0, 0, 0, 0, 0]])"
      ]
     },
     "execution_count": 120,
     "metadata": {},
     "output_type": "execute_result"
    }
   ],
   "source": [
    "np.concatenate([arr1,arr0])"
   ]
  },
  {
   "cell_type": "code",
   "execution_count": 123,
   "id": "8fd9eca5",
   "metadata": {},
   "outputs": [
    {
     "data": {
      "text/plain": [
       "array([[1, 1, 1, 1, 1, 1, 1, 1, 1, 1, 1, 1, 1, 1, 1, 1, 1, 1, 1, 1, 1, 0,\n",
       "        0, 0, 0, 0, 0, 0, 0, 0, 0, 0, 0, 0, 0, 0, 0, 0, 0, 0, 0, 0]])"
      ]
     },
     "execution_count": 123,
     "metadata": {},
     "output_type": "execute_result"
    }
   ],
   "source": [
    "np.concatenate([arr1,arr0],axis=1)"
   ]
  },
  {
   "cell_type": "code",
   "execution_count": null,
   "id": "cc663ccc",
   "metadata": {},
   "outputs": [],
   "source": []
  }
 ],
 "metadata": {
  "kernelspec": {
   "display_name": "Python 3 (ipykernel)",
   "language": "python",
   "name": "python3"
  },
  "language_info": {
   "codemirror_mode": {
    "name": "ipython",
    "version": 3
   },
   "file_extension": ".py",
   "mimetype": "text/x-python",
   "name": "python",
   "nbconvert_exporter": "python",
   "pygments_lexer": "ipython3",
   "version": "3.11.4"
  }
 },
 "nbformat": 4,
 "nbformat_minor": 5
}
