{
 "cells": [
  {
   "cell_type": "code",
   "execution_count": null,
   "id": "ea6df08d",
   "metadata": {},
   "outputs": [],
   "source": [
    "#1 Kullanıcıdan pi değeri ve yarıçap bilgisi alarak dairenin alanını hesaplayan bir fonksiyon oluşturulur."
   ]
  },
  {
   "cell_type": "code",
   "execution_count": 165,
   "id": "ca4bcdc4",
   "metadata": {},
   "outputs": [
    {
     "name": "stdout",
     "output_type": "stream",
     "text": [
      "pi değerini giriniz:3.14\n",
      "dairenizin yarıçapını giriniz:6.8\n",
      "3.14 pi sayısı, yarıçapı 6.8 olan daire ile çarpılırsa dairenin alanı 145.1936 olur\n"
     ]
    }
   ],
   "source": [
    "def dairenin_alani(pi,r):\n",
    "    islem=pi*r*r\n",
    "    sonuc=str(islem)\n",
    "    print(\"{} pi sayısı, yarıçapı {} olan daire ile çarpılırsa dairenin alanı {} olur\".format(pi,r,sonuc))\n",
    "    \n",
    "pi=float(input(\"pi değerini giriniz:\"))\n",
    "r=float(input(\"dairenizin yarıçapını giriniz:\"))\n",
    "dairenin_alani(pi,r)"
   ]
  },
  {
   "cell_type": "code",
   "execution_count": 163,
   "id": "bd3d0819",
   "metadata": {},
   "outputs": [
    {
     "ename": "SyntaxError",
     "evalue": "invalid syntax (3763392964.py, line 2)",
     "output_type": "error",
     "traceback": [
      "\u001b[1;36m  Cell \u001b[1;32mIn[163], line 2\u001b[1;36m\u001b[0m\n\u001b[1;33m    Format metodunu kullanılarak ekrana yazdırılır.\u001b[0m\n\u001b[1;37m           ^\u001b[0m\n\u001b[1;31mSyntaxError\u001b[0m\u001b[1;31m:\u001b[0m invalid syntax\n"
     ]
    }
   ],
   "source": [
    "#2 Faktöriyel adında fonksiyon oluşturulur. Döngü kullanarak parametre olarak girilen sayının faktöriyeli hesaplanır.\n",
    "Format metodunu kullanılarak ekrana yazdırılır.\n"
   ]
  },
  {
   "cell_type": "code",
   "execution_count": 93,
   "id": "2d930b8c",
   "metadata": {},
   "outputs": [
    {
     "name": "stdout",
     "output_type": "stream",
     "text": [
      "faktöriyelini hesaplamak istediğiniz sayıyı giriniz:4\n",
      "4 sayısının faktöriyeli: 24\n"
     ]
    }
   ],
   "source": [
    "def factorial_hesaplama(sayi):\n",
    "    factorial = 1\n",
    "    if sayi == 0:\n",
    "        print(\"0! = 1\")\n",
    "    elif sayi >0:\n",
    "        for i in range(1,sayi + 1): \n",
    "            factorial = factorial*i\n",
    "        print(sayi,\"sayısının faktöriyeli:\",factorial) \n",
    "    else:\n",
    "         print(\"Negatif sayıların faktöriyeli hesaplanamaz.\")\n",
    "\n",
    "sayi=int(input(\"faktöriyelini hesaplamak istediğiniz sayıyı giriniz:\"))\n",
    "factorial_hesaplama(sayi)"
   ]
  },
  {
   "cell_type": "code",
   "execution_count": 91,
   "id": "668fc844",
   "metadata": {},
   "outputs": [],
   "source": [
    "#3 Kişinin fonksiyona doğum yılını vererek kaç yaşında olduğunu hesaplayan bir fonksiyon oluşturun. "
   ]
  },
  {
   "cell_type": "code",
   "execution_count": 104,
   "id": "832dc579",
   "metadata": {
    "scrolled": true
   },
   "outputs": [
    {
     "name": "stdout",
     "output_type": "stream",
     "text": [
      "Adınızı Girin: Zeynep Erva\n",
      "Doğum Yılınızı Giriniz:2005\n",
      "Merhaba Zeynep Erva , 18 yaşındasın.\n"
     ]
    }
   ],
   "source": [
    "def kac_yasindasin(dogum_yili):\n",
    "    ad=input(\"Adınızı Girin: \")\n",
    "    dogum_yili=int(input(\"Doğum Yılınızı Giriniz:\"))\n",
    "    guncel_yil= 2023\n",
    "    yas=guncel_yil-dogum_yili\n",
    "    print(\"Merhaba {} , {} yaşındasın.\".format(ad,yas))\n",
    "kac_yasindasin(dogum_yili)"
   ]
  },
  {
   "cell_type": "code",
   "execution_count": 103,
   "id": "aa88be86",
   "metadata": {},
   "outputs": [],
   "source": [
    "#4 Doğum yılı ve isim bilgisi verilen fonksiyon kişinin emekli olup olmadığını söylesin.\n",
    "#(Kişi 65 yaşında ise emekli olur.) Burada yaş hesabını yukarıdaki örnekteki fonksiyonu kullanarak yapsın.\n",
    "#(Yani fonksiyon içinde fonksiyon kullanmanızı istiyorum :))Kişi 65 yaşında ya da daha fazlaysa \"Emekli oldunuz\" yanıtını,\n",
    "#65 yaşından küçükse emekliliğine kaç yıl kaldığını da hesaplayarak \"(isim) emekliliğine (yıl) kaldı.\" yanıtını versin."
   ]
  },
  {
   "cell_type": "code",
   "execution_count": 122,
   "id": "ed64fd40",
   "metadata": {},
   "outputs": [
    {
     "name": "stdout",
     "output_type": "stream",
     "text": [
      "Adınızı giriniz:Ömer Faruk\n",
      "Doğum yılınıznı giriniz:1973\n",
      "'Ömer Faruk,emekliliğinize 15 yıl kaldı'\n"
     ]
    }
   ],
   "source": [
    "def emekliligekacyilkaldi(dogum_yili,ad):   \n",
    "    guncel_yil= 2023\n",
    "    yas=guncel_yil-dogum_yili\n",
    "    emeklilik = 65 - yas\n",
    "    if emeklilik > 0:\n",
    "        print(\"'{},emekliliğinize {} yıl kaldı'\".format(ad,emeklilik))\n",
    "    else:\n",
    "        print('Zaten emekli oldunuz')\n",
    "ad=input(\"Adınızı giriniz:\")\n",
    "dogum_yili=int(input(\"Doğum yılınıznı giriniz:\"))\n",
    "emekliligekacyilkaldi(dogum_yili,ad)"
   ]
  }
 ],
 "metadata": {
  "kernelspec": {
   "display_name": "Python 3 (ipykernel)",
   "language": "python",
   "name": "python3"
  },
  "language_info": {
   "codemirror_mode": {
    "name": "ipython",
    "version": 3
   },
   "file_extension": ".py",
   "mimetype": "text/x-python",
   "name": "python",
   "nbconvert_exporter": "python",
   "pygments_lexer": "ipython3",
   "version": "3.11.4"
  }
 },
 "nbformat": 4,
 "nbformat_minor": 5
}
