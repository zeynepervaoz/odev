{
 "cells": [
  {
   "cell_type": "code",
   "execution_count": null,
   "id": "f1fbff92",
   "metadata": {},
   "outputs": [],
   "source": [
    "# Bir sözlük oluşturulur ve bu sözlükte öğrencilerin isimleri ve Matematik,Fizik,Kimya notları tutulur.\n",
    "#Kullanıcıdan isim ve ders ismi(Matematik,Fizik,Kimya) istenir ve bu bilgilere göre çıktı verilir.\n",
    "#Sözlük üzerinde değerleri değitirme, yeni değer ekleme, kullanıcıya ulaşmak istediği bilgileri sorma gibi uygulamalar yapın"
   ]
  },
  {
   "cell_type": "code",
   "execution_count": 32,
   "id": "4b75ee31",
   "metadata": {},
   "outputs": [],
   "source": [
    "ogrenci_notlari = { \n",
    "     \"Zeynep Erva\":{\n",
    "        \"Matematik\": 95,\n",
    "        \"Fizik\": 93,\n",
    "        \"Kimya\": 80\n",
    "    },\n",
    "    \"Zahide\" :{\n",
    "        \"Matematik\": 85,\n",
    "        \"Fizik\": 91,\n",
    "        \"Kimya\": 84\n",
    "    },\n",
    "    \"Tuna\":{\n",
    "        \"Matematik\": 100,\n",
    "        \"Fizik\": 90,\n",
    "        \"Kimya\": 100\n",
    "    },\n",
    "     \"Fatma\":{\n",
    "        \"Matematik\": 88,\n",
    "        \"Fizik\": 87,\n",
    "        \"Kimya\": 95\n",
    "    },\n",
    "     \"Tuğba\":{\n",
    "        \"Matematik\": 97,\n",
    "        \"Fizik\": 76,\n",
    "        \"Kimya\":68\n",
    "    }\n",
    "}"
   ]
  },
  {
   "cell_type": "code",
   "execution_count": 38,
   "id": "1335c426",
   "metadata": {},
   "outputs": [
    {
     "name": "stdout",
     "output_type": "stream",
     "text": [
      "Öğrenci ismini giriniz: Zeynep Erva\n",
      "Ders adını seçiniz:(Matematik/Fizik/Kimya)Kimya\n",
      "Zeynep Erva isimli öğrencinin Kimya notu: 80\n"
     ]
    }
   ],
   "source": [
    "isim = input(\"Öğrenci ismini giriniz: \")\n",
    "ders = input(\"Ders adını seçiniz:(Matematik/Fizik/Kimya)\")\n",
    "if isim in ogrenci_notlari and ders in ogrenci_notlari[isim]:\n",
    "    notu = ogrenci_notlari[isim][ders]\n",
    "    print(\"{} isimli öğrencinin {} notu: {}\".format(isim,ders,notu))\n",
    "elif isim not in ogrenci_notlari :\n",
    "    print (\"{} isimli öğrenci kayıdı bulunmamaktadır. Lütfen kayıt olunuz.\")\n",
    "elif  isim in ogrenci_notlari and ders not in ogrenci_notlari:\n",
    "    print (\"{} isimli öğrenci kayıdı bulunmaktadır. Lütfen mevcut derslerinizi giriniz!\".format(isim))\n",
    "    "
   ]
  },
  {
   "cell_type": "code",
   "execution_count": 37,
   "id": "680e1b11",
   "metadata": {},
   "outputs": [
    {
     "name": "stdout",
     "output_type": "stream",
     "text": [
      "Öğrenci ismini giriniz: Tuğba\n",
      "Ders adını seçiniz:(Matematik/Fizik/Kimya)Biyoloji\n",
      "Tuğba isimli öğrenci kayıdı bulunmaktadır. Lütfen mevcut derslerinizi giriniz!\n"
     ]
    }
   ],
   "source": [
    "isim = input(\"Öğrenci ismini giriniz: \")\n",
    "ders = input(\"Ders adını seçiniz:(Matematik/Fizik/Kimya)\")\n",
    "if isim in ogrenci_notlari and ders in ogrenci_notlari[isim]:\n",
    "    notu = ogrenci_notlari[isim][ders]\n",
    "    print(\"{} isimli öğrencinin {} notu: {}\".format(isim,ders,notu))\n",
    "elif isim not in ogrenci_notlari :\n",
    "    print (\"{} isimli öğrenci kayıdı bulunmamaktadır. Lütfen kayıt olunuz.\")\n",
    "elif  isim in ogrenci_notlari and ders not in ogrenci_notlari:\n",
    "    print (\"{} isimli öğrenci kayıdı bulunmaktadır. Lütfen mevcut derslerinizi giriniz!\".format(isim))\n",
    "    "
   ]
  },
  {
   "cell_type": "code",
   "execution_count": 39,
   "id": "db4ab84c",
   "metadata": {},
   "outputs": [],
   "source": [
    "ogrenci_notlari [\"Zeynep Erva\"][\"Kimya\"]=90"
   ]
  },
  {
   "cell_type": "code",
   "execution_count": 40,
   "id": "eee61810",
   "metadata": {},
   "outputs": [
    {
     "name": "stdout",
     "output_type": "stream",
     "text": [
      "Öğrenci ismini giriniz: Zeynep Erva\n",
      "Ders adını seçiniz:(Matematik/Fizik/Kimya)Kimya\n",
      "Zeynep Erva isimli öğrencinin Kimya notu: 90\n"
     ]
    }
   ],
   "source": [
    "isim = input(\"Öğrenci ismini giriniz: \")\n",
    "ders = input(\"Ders adını seçiniz:(Matematik/Fizik/Kimya)\")\n",
    "if isim in ogrenci_notlari and ders in ogrenci_notlari[isim]:\n",
    "    notu = ogrenci_notlari[isim][ders]\n",
    "    print(\"{} isimli öğrencinin {} notu: {}\".format(isim,ders,notu))\n",
    "elif isim not in ogrenci_notlari :\n",
    "    print (\"{} isimli öğrenci kayıdı bulunmamaktadır. Lütfen kayıt olunuz.\")\n",
    "elif  isim in ogrenci_notlari and ders not in ogrenci_notlari:\n",
    "    print (\"{} isimli öğrenci kayıdı bulunmaktadır. Lütfen mevcut derslerinizi giriniz!\".format(isim))\n",
    "    "
   ]
  },
  {
   "cell_type": "code",
   "execution_count": null,
   "id": "cee9e016",
   "metadata": {},
   "outputs": [],
   "source": []
  }
 ],
 "metadata": {
  "kernelspec": {
   "display_name": "Python 3 (ipykernel)",
   "language": "python",
   "name": "python3"
  },
  "language_info": {
   "codemirror_mode": {
    "name": "ipython",
    "version": 3
   },
   "file_extension": ".py",
   "mimetype": "text/x-python",
   "name": "python",
   "nbconvert_exporter": "python",
   "pygments_lexer": "ipython3",
   "version": "3.11.4"
  }
 },
 "nbformat": 4,
 "nbformat_minor": 5
}
