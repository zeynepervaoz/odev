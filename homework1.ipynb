{
 "cells": [
  {
   "cell_type": "markdown",
   "metadata": {},
   "source": [
    "# Exercise 1\n",
    "\n",
    "x = 3 ----> floata çevirelim. Çevirdikten sonra beri tipinide yazdıralım.\n",
    "\n",
    "y = 4.5 -----> integere çevirelim. Çevirdikten sonra beri tipinide yazdıralım.\n",
    "\n",
    "z = \"8\" -----> integera çevirelim. Çevirdikten sonra beri tipinide yazdıralım.\n",
    "\n",
    "a = \"12\" -----> floata çevirelim. Çevirdikten sonra beri tipinide yazdıralım.\n",
    "\n",
    "b = \"46.8\" ------> integera çevirelim. Çevirdikten sonra beri tipinide yazdıralım."
   ]
  },
  {
   "cell_type": "code",
   "execution_count": null,
   "metadata": {},
   "outputs": [],
   "source": [
    "x=3\n",
    "float(x)\n",
    "3.0\n",
    "print(type(x))\n",
    "<class 'int'>\n",
    "\n",
    "\n",
    "\n",
    "y=4.5\n",
    "int(y)\n",
    "4\n",
    "print(type(y))\n",
    "<class 'float'>\n",
    "\n",
    "\n",
    "\n",
    "z=\"8\"\n",
    "int(z)\n",
    "8\n",
    "print(type(z))\n",
    "<class 'str'>\n",
    "\n",
    "\n",
    "\n",
    "a=\"12\"\n",
    "float(a)\n",
    "12.0\n",
    "print(type(a))\n",
    "<class 'str'>\n",
    "\n",
    "\n",
    "\n",
    "b=\"46.8\"\n",
    "int(float(b))\n",
    "\n",
    "\n",
    "print(type(b))\n",
    "<class 'int'>"
   ]
  },
  {
   "cell_type": "markdown",
   "metadata": {},
   "source": [
    "# Excersice 2\n",
    "\n",
    "Üç değişken belirleyelim, bu değişkenler kişi adı olsun. Değişkenlere kişilerin yaşlarını atayalım. (ÖRN: ayse=22)\n",
    "\n",
    "Belirlediğimiz üç değişkeni birbiriyle karşılaştırma operatörleri ile karşılatıralım. (ayse>mehmet)\n",
    "\n",
    "Bu karşılaştırmalara mantıksal operatörleri de ekleyelim."
   ]
  },
  {
   "cell_type": "code",
   "execution_count": null,
   "metadata": {},
   "outputs": [],
   "source": [
    "ayşe=18\n",
    "\n",
    "fatma=22\n",
    "\n",
    "huriye=29\n",
    "\n",
    "ayşe+=3\n",
    "\n",
    "ayşe\n",
    "21\n",
    "\n",
    "fatma-=1\n",
    "\n",
    "fatma\n",
    "21\n",
    "\n",
    "huriye-=8\n",
    "\n",
    "huriye\n",
    "21\n",
    "\n",
    "int(ayşe)-int(fatma)\n",
    "0\n",
    "\n",
    "\n",
    "int(ayşe)+int(fatma)/int(huriye)\n",
    "22.0\n",
    "\n",
    "\n",
    "float(ayşe)+float(fatma)\n",
    "42.0\n",
    "\n",
    "\n",
    "huriye/=3\n",
    "\n",
    "huriye\n",
    "7.0\n",
    "\n",
    "ayşe/=7\n",
    "\n",
    "ayşe\n",
    "3.0\n",
    "\n",
    "ayşe*huriye\n",
    "21.0\n",
    "\n",
    "fatma//ayşe\n",
    "7.0\n",
    "\n",
    "fatma//huriye\n",
    "3.0\n",
    "\n",
    "ayşe**huriye\n",
    "2187.0\n",
    "\n",
    "huriye**ayşe\n",
    "343.0\n",
    "\n",
    "fatma%ayşe\n",
    "0.0\n",
    "\n",
    "huriye%ayşe\n",
    "1.0\n",
    "\n",
    "huriye>ayşe\n",
    "True\n",
    "\n",
    "huriye> int(ayşe)+int(fatma)\n",
    "False\n",
    "\n",
    "huriye\n",
    "7.0\n",
    "\n",
    "ayşe\n",
    "3.0\n",
    "\n",
    "fatma\n",
    "21\n",
    "\n",
    "fatma>=huriye*ayşe\n",
    "True\n",
    "\n",
    "ayşe=int(fatma/huriye)\n",
    "\n",
    "ayşe\n",
    "3\n"
   ]
  },
  {
   "cell_type": "markdown",
   "metadata": {},
   "source": [
    "# Excercise 3\n",
    "\n",
    "Kullanıcıdan iki değer girmesini isteyin. Girilen değerlerin toplama,çıkarma,çarpma,bölme sonuçlarını yazdıralım."
   ]
  },
  {
   "cell_type": "code",
   "execution_count": null,
   "metadata": {},
   "outputs": [],
   "source": [
    "x=input(\"Yaşınız\")\n",
    "y=input(\"Yaşınız2\")\n",
    "Yaşınız18\n",
    "Yaşınız225\n",
    "\n",
    "int(x)+int(y)\n",
    "43\n",
    "\n",
    "\n",
    "int(x)-int(y)\n",
    "-7\n",
    "\n",
    "\n",
    "int(y)-int(x)\n",
    "7\n",
    "\n",
    "\n",
    "int(x)*int(y)\n",
    "450\n",
    "\n",
    "\n",
    "int(x)/int(y)\n",
    "0.72"
   ]
  },
  {
   "cell_type": "markdown",
   "metadata": {},
   "source": [
    "# Excercise 4\n",
    "\n",
    "Kullanıcıdan isim, yaş, şehir ve meslek bilgilerini isteyelim ve cevaplarını yazdıralım."
   ]
  },
  {
   "cell_type": "code",
   "execution_count": null,
   "metadata": {},
   "outputs": [],
   "source": [
    "input(\"ADINIZ?\")\n",
    "input(\"YAŞINIZ?\")\n",
    "input(\"YAŞADIĞINIZŞEHİR?\")\n",
    "input(\"MESLEĞİNİZ?\")\n",
    "ADINIZ?ZEYNEP ERVA\n",
    "YAŞINIZ?18\n",
    "YAŞADIĞINIZŞEHİR?MARDİN\n",
    "MESLEĞİNİZ?ÖĞRENCİ"
   ]
  },
  {
   "cell_type": "markdown",
   "metadata": {},
   "source": [
    "# Excersice 5 \n",
    "\n",
    "\"Hi-Kod Veri Bilimi Atölyesi\" ifadesini bir değişkene tanımlayalım.\n",
    "- İfadedeki her bir kelimeyi (\"Hi-Kod\", \"Veri\", \"Bilimi\", \"Atölyesi\") değişken içinden seçelim.\n",
    "- İfadeyi hepsini büyük harf olacak hale çevirelim.  (\"HI-KOD VERİ BİLİMİ ATÖLYESİ\")\n",
    "- İfadeyi hepsini büyük harf olacak hale çevirelim.(\"hi-kod veri bilimi atölyesi\")\n",
    "\n",
    "\"0123456789\" ifadesindeki yalnızca çift sayıları ve yalnızca tek sayıları seçelim. (\"02468\", \"13579\")\n"
   ]
  },
  {
   "cell_type": "markdown",
   "metadata": {},
   "source": []
  },
  {
   "cell_type": "code",
   "execution_count": null,
   "metadata": {},
   "outputs": [
    {
     "data": {
      "text/plain": [
       "'hi-kod veri bilimi atölyesi'"
      ]
     },
     "execution_count": 2,
     "metadata": {},
     "output_type": "execute_result"
    }
   ],
   "source": [
    "x= \"Hi-Kod Veri Bilimi Atölyesi\"\n",
    "\n",
    "x\n",
    "'Hi-Kod Veri Bilimi Atölyesi'\n",
    "\n",
    "print(x.split())\n",
    "['Hi-Kod', 'Veri', 'Bilimi', 'Atölyesi']\n",
    "\n",
    "\n",
    "print(x.upper())\n",
    "HI-KOD VERI BILIMI ATÖLYESI\n",
    "\n",
    "\n",
    "print(x.lower())\n",
    "hi-kod veri bilimi atölyesi\n",
    "\n",
    "\n",
    "y=\"0123456789\"\n",
    "\n",
    "y\n",
    "'0123456789'\n",
    "\n",
    "y[1::2]\n",
    "'13579'\n",
    "\n",
    "\n",
    "print(y[1::2])\n",
    "13579\n",
    "\n",
    "\n",
    "print(y[0::2])\n",
    "02468"
   ]
  }
 ],
 "metadata": {
  "kernelspec": {
   "display_name": "Python 3 (ipykernel)",
   "language": "python",
   "name": "python3"
  },
  "language_info": {
   "codemirror_mode": {
    "name": "ipython",
    "version": 3
   },
   "file_extension": ".py",
   "mimetype": "text/x-python",
   "name": "python",
   "nbconvert_exporter": "python",
   "pygments_lexer": "ipython3",
   "version": "3.9.12"
  },
  "vscode": {
   "interpreter": {
    "hash": "c881c981974d1277f7400ccc3574e04ed710c1350960151bc46c299926b2e061"
   }
  }
 },
 "nbformat": 4,
 "nbformat_minor": 2
}
