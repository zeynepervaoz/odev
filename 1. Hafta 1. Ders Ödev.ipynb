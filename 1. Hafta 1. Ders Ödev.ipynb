{
 "cells": [
  {
   "cell_type": "code",
   "execution_count": null,
   "id": "7b356433",
   "metadata": {},
   "outputs": [],
   "source": [
    "# Exercise 1\n",
    "#x = 3 ----> floata çevirelim. Çevirdikten sonra beri tipinide yazdıralım.\n",
    "##y = 4.5 -----> integere çevirelim. Çevirdikten sonra beri tipinide yazdıralım.\n",
    "#z = \"8\" -----> integera çevirelim. Çevirdikten sonra beri tipinide yazdıralım.\n",
    "#a = \"12\" -----> floata çevirelim. Çevirdikten sonra beri tipinide yazdıralım.\n",
    "#b = \"46.8\" ------> integera çevirelim. Çevirdikten sonra beri tipinide yazdıralım."
   ]
  },
  {
   "cell_type": "code",
   "execution_count": 1,
   "id": "2a051a46",
   "metadata": {},
   "outputs": [
    {
     "data": {
      "text/plain": [
       "3.0"
      ]
     },
     "execution_count": 1,
     "metadata": {},
     "output_type": "execute_result"
    }
   ],
   "source": [
    "x=3\n",
    "float(x)"
   ]
  },
  {
   "cell_type": "code",
   "execution_count": 2,
   "id": "788bdaae",
   "metadata": {},
   "outputs": [
    {
     "name": "stdout",
     "output_type": "stream",
     "text": [
      "<class 'int'>\n"
     ]
    }
   ],
   "source": [
    "print(type(x))"
   ]
  },
  {
   "cell_type": "code",
   "execution_count": 3,
   "id": "b10a7138",
   "metadata": {},
   "outputs": [
    {
     "data": {
      "text/plain": [
       "4"
      ]
     },
     "execution_count": 3,
     "metadata": {},
     "output_type": "execute_result"
    }
   ],
   "source": [
    "y=4.5\n",
    "int(y)"
   ]
  },
  {
   "cell_type": "code",
   "execution_count": 4,
   "id": "47effbd2",
   "metadata": {},
   "outputs": [
    {
     "name": "stdout",
     "output_type": "stream",
     "text": [
      "<class 'float'>\n"
     ]
    }
   ],
   "source": [
    "print(type(y))"
   ]
  },
  {
   "cell_type": "code",
   "execution_count": 5,
   "id": "514e0b8b",
   "metadata": {},
   "outputs": [
    {
     "data": {
      "text/plain": [
       "8"
      ]
     },
     "execution_count": 5,
     "metadata": {},
     "output_type": "execute_result"
    }
   ],
   "source": [
    "z='8'\n",
    "int(z)"
   ]
  },
  {
   "cell_type": "code",
   "execution_count": 6,
   "id": "a18d21f0",
   "metadata": {},
   "outputs": [
    {
     "name": "stdout",
     "output_type": "stream",
     "text": [
      "<class 'str'>\n"
     ]
    }
   ],
   "source": [
    "print(type(z))"
   ]
  },
  {
   "cell_type": "code",
   "execution_count": 7,
   "id": "4a4162f8",
   "metadata": {},
   "outputs": [
    {
     "data": {
      "text/plain": [
       "12.0"
      ]
     },
     "execution_count": 7,
     "metadata": {},
     "output_type": "execute_result"
    }
   ],
   "source": [
    "a=\"12\"\n",
    "float(a)"
   ]
  },
  {
   "cell_type": "code",
   "execution_count": 8,
   "id": "db75cf67",
   "metadata": {},
   "outputs": [
    {
     "data": {
      "text/plain": [
       "46"
      ]
     },
     "execution_count": 8,
     "metadata": {},
     "output_type": "execute_result"
    }
   ],
   "source": [
    "b=46.8\n",
    "int(float(b))"
   ]
  },
  {
   "cell_type": "code",
   "execution_count": 9,
   "id": "4ebea8c4",
   "metadata": {},
   "outputs": [
    {
     "name": "stdout",
     "output_type": "stream",
     "text": [
      "<class 'float'>\n"
     ]
    }
   ],
   "source": [
    "print(type(b))"
   ]
  },
  {
   "cell_type": "code",
   "execution_count": null,
   "id": "c15ed7d6",
   "metadata": {},
   "outputs": [],
   "source": [
    "# Excersice 2\n",
    "#Üç değişken belirleyelim, bu değişkenler kişi adı olsun. Değişkenlere kişilerin yaşlarını atayalım. (ÖRN: ayse=22)\n",
    "#Belirlediğimiz üç değişkeni birbiriyle karşılaştırma operatörleri ile karşılatıralım. (ayse>mehmet)\n",
    "#Bu karşılaştırmalara mantıksal operatörleri de ekleyelim."
   ]
  },
  {
   "cell_type": "code",
   "execution_count": 10,
   "id": "6da0d58a",
   "metadata": {},
   "outputs": [],
   "source": [
    "ayse=12\n",
    "fatma=15\n",
    "hayriye=18\n"
   ]
  },
  {
   "cell_type": "code",
   "execution_count": 11,
   "id": "8e4be525",
   "metadata": {},
   "outputs": [
    {
     "data": {
      "text/plain": [
       "True"
      ]
     },
     "execution_count": 11,
     "metadata": {},
     "output_type": "execute_result"
    }
   ],
   "source": [
    "hayriye<ayse+fatma"
   ]
  },
  {
   "cell_type": "code",
   "execution_count": 13,
   "id": "078b1444",
   "metadata": {},
   "outputs": [
    {
     "data": {
      "text/plain": [
       "True"
      ]
     },
     "execution_count": 13,
     "metadata": {},
     "output_type": "execute_result"
    }
   ],
   "source": [
    "fatma*2==hayriye+ayse"
   ]
  },
  {
   "cell_type": "code",
   "execution_count": 14,
   "id": "8a88eb69",
   "metadata": {},
   "outputs": [
    {
     "data": {
      "text/plain": [
       "True"
      ]
     },
     "execution_count": 14,
     "metadata": {},
     "output_type": "execute_result"
    }
   ],
   "source": [
    "hayriye-fatma==fatma-ayse"
   ]
  },
  {
   "cell_type": "code",
   "execution_count": 15,
   "id": "39267fce",
   "metadata": {},
   "outputs": [
    {
     "data": {
      "text/plain": [
       "True"
      ]
     },
     "execution_count": 15,
     "metadata": {},
     "output_type": "execute_result"
    }
   ],
   "source": [
    "fatma+ayse>hayriye"
   ]
  },
  {
   "cell_type": "code",
   "execution_count": 16,
   "id": "6a040815",
   "metadata": {},
   "outputs": [
    {
     "data": {
      "text/plain": [
       "True"
      ]
     },
     "execution_count": 16,
     "metadata": {},
     "output_type": "execute_result"
    }
   ],
   "source": [
    "ayse<fatma<hayriye"
   ]
  },
  {
   "cell_type": "code",
   "execution_count": null,
   "id": "9fd4c58f",
   "metadata": {},
   "outputs": [],
   "source": [
    "# Excercise 3\n",
    "#Kullanıcıdan iki değer girmesini isteyin. Girilen değerlerin toplama,çıkarma,çarpma,bölme sonuçlarını yazdıralım."
   ]
  },
  {
   "cell_type": "code",
   "execution_count": 31,
   "id": "59342736",
   "metadata": {
    "scrolled": true
   },
   "outputs": [
    {
     "name": "stdout",
     "output_type": "stream",
     "text": [
      "bir değer giriniz1:20\n",
      "bir değer giriniz2:25\n"
     ]
    }
   ],
   "source": [
    "x=input(\"bir değer giriniz1:\")\n",
    "y=input(\"bir değer giriniz2:\")\n"
   ]
  },
  {
   "cell_type": "code",
   "execution_count": 34,
   "id": "c2644b01",
   "metadata": {},
   "outputs": [
    {
     "data": {
      "text/plain": [
       "45"
      ]
     },
     "execution_count": 34,
     "metadata": {},
     "output_type": "execute_result"
    }
   ],
   "source": [
    "int(x)+int(y)"
   ]
  },
  {
   "cell_type": "code",
   "execution_count": 35,
   "id": "df4d6791",
   "metadata": {},
   "outputs": [
    {
     "data": {
      "text/plain": [
       "-5"
      ]
     },
     "execution_count": 35,
     "metadata": {},
     "output_type": "execute_result"
    }
   ],
   "source": [
    "int(x)-int(y)"
   ]
  },
  {
   "cell_type": "code",
   "execution_count": 36,
   "id": "c01bb416",
   "metadata": {},
   "outputs": [
    {
     "data": {
      "text/plain": [
       "500"
      ]
     },
     "execution_count": 36,
     "metadata": {},
     "output_type": "execute_result"
    }
   ],
   "source": [
    "int(x)*int(y)"
   ]
  },
  {
   "cell_type": "code",
   "execution_count": 37,
   "id": "2299e647",
   "metadata": {},
   "outputs": [
    {
     "data": {
      "text/plain": [
       "0.8"
      ]
     },
     "execution_count": 37,
     "metadata": {},
     "output_type": "execute_result"
    }
   ],
   "source": [
    "int(x)/int(y)"
   ]
  },
  {
   "cell_type": "code",
   "execution_count": null,
   "id": "2be61c79",
   "metadata": {},
   "outputs": [],
   "source": [
    "# Excercise 4\n",
    "#Kullanıcıdan isim, yaş, şehir ve meslek bilgilerini isteyelim ve cevaplarını yazdıralım."
   ]
  },
  {
   "cell_type": "code",
   "execution_count": 22,
   "id": "e0a0bc2b",
   "metadata": {},
   "outputs": [
    {
     "name": "stdout",
     "output_type": "stream",
     "text": [
      "adınız:zeynep erva\n",
      "yaşınız:18\n",
      "yaşadığınız şehiriniz:mardin\n",
      "mesleğiniz:öğrenci\n"
     ]
    },
    {
     "data": {
      "text/plain": [
       "'öğrenci'"
      ]
     },
     "execution_count": 22,
     "metadata": {},
     "output_type": "execute_result"
    }
   ],
   "source": [
    "input(\"adınız:\")\n",
    "input(\"yaşınız:\")\n",
    "input(\"yaşadığınız şehiriniz:\")\n",
    "input(\"mesleğiniz:\")"
   ]
  },
  {
   "cell_type": "code",
   "execution_count": null,
   "id": "ce0675d6",
   "metadata": {},
   "outputs": [],
   "source": [
    "# Excersice 5 \n",
    "#\"Hi-Kod Veri Bilimi Atölyesi\" ifadesini bir değişkene tanımlayalım.\n",
    "#- İfadedeki her bir kelimeyi (\"Hi-Kod\", \"Veri\", \"Bilimi\", \"Atölyesi\") değişken içinden seçelim.\n",
    "#- İfadeyi hepsini büyük harf olacak hale çevirelim.  (\"HI-KOD VERİ BİLİMİ ATÖLYESİ\")\n",
    "#- İfadeyi hepsini büyük harf olacak hale çevirelim.(\"hi-kod veri bilimi atölyesi\")\n",
    "#\"0123456789\" ifadesindeki yalnızca çift sayıları ve yalnızca tek sayıları seçelim. (\"02468\", \"13579\")"
   ]
  },
  {
   "cell_type": "code",
   "execution_count": 23,
   "id": "c0355ff6",
   "metadata": {},
   "outputs": [],
   "source": [
    "x= \"Hi-Kod Veri Bilimi Atölyesi\""
   ]
  },
  {
   "cell_type": "code",
   "execution_count": 24,
   "id": "7436327f",
   "metadata": {},
   "outputs": [
    {
     "name": "stdout",
     "output_type": "stream",
     "text": [
      "['Hi-Kod', 'Veri', 'Bilimi', 'Atölyesi']\n"
     ]
    }
   ],
   "source": [
    "print(x.split())"
   ]
  },
  {
   "cell_type": "code",
   "execution_count": 25,
   "id": "256c3340",
   "metadata": {},
   "outputs": [
    {
     "name": "stdout",
     "output_type": "stream",
     "text": [
      "HI-KOD VERI BILIMI ATÖLYESI\n"
     ]
    }
   ],
   "source": [
    "print(x.upper())"
   ]
  },
  {
   "cell_type": "code",
   "execution_count": 26,
   "id": "a2ce2a32",
   "metadata": {},
   "outputs": [
    {
     "name": "stdout",
     "output_type": "stream",
     "text": [
      "hi-kod veri bilimi atölyesi\n"
     ]
    }
   ],
   "source": [
    "print(x.lower())"
   ]
  },
  {
   "cell_type": "code",
   "execution_count": 27,
   "id": "91dbd52d",
   "metadata": {},
   "outputs": [],
   "source": [
    "y=\"0123456789\""
   ]
  },
  {
   "cell_type": "code",
   "execution_count": 28,
   "id": "faf444c0",
   "metadata": {},
   "outputs": [
    {
     "data": {
      "text/plain": [
       "'13579'"
      ]
     },
     "execution_count": 28,
     "metadata": {},
     "output_type": "execute_result"
    }
   ],
   "source": [
    "y[1::2]"
   ]
  },
  {
   "cell_type": "code",
   "execution_count": 29,
   "id": "a3466ae9",
   "metadata": {},
   "outputs": [
    {
     "name": "stdout",
     "output_type": "stream",
     "text": [
      "13579\n"
     ]
    }
   ],
   "source": [
    "print(y[1::2])"
   ]
  },
  {
   "cell_type": "code",
   "execution_count": 30,
   "id": "bc966362",
   "metadata": {},
   "outputs": [
    {
     "name": "stdout",
     "output_type": "stream",
     "text": [
      "02468\n"
     ]
    }
   ],
   "source": [
    "print(y[0::2])"
   ]
  }
 ],
 "metadata": {
  "kernelspec": {
   "display_name": "Python 3 (ipykernel)",
   "language": "python",
   "name": "python3"
  },
  "language_info": {
   "codemirror_mode": {
    "name": "ipython",
    "version": 3
   },
   "file_extension": ".py",
   "mimetype": "text/x-python",
   "name": "python",
   "nbconvert_exporter": "python",
   "pygments_lexer": "ipython3",
   "version": "3.11.4"
  }
 },
 "nbformat": 4,
 "nbformat_minor": 5
}
