{
 "cells": [
  {
   "cell_type": "code",
   "execution_count": null,
   "id": "1f1c8a16",
   "metadata": {},
   "outputs": [],
   "source": [
    "# 1\n",
    "#Kullanıcıdan maaş bilgisini isteyelim ve bu bilgiye göre maaşından ne kadar vergi kesileceğini hesaplayalım. (Oluşturulan vergi sistemi hayal ürünüdür :D)\n",
    "#Kullanıcının geliri;\n",
    "#- 10000 ve altındaysa maaşından %5 kesinti olsun.\n",
    "#- 25000 ve altındaysa maaşından %10 kesinti olsun.\n",
    "#- 45000 ve altındaysa maaşından %25 kesinti olsun.\n",
    "#- Diğer koşullarda %30 kesinti olsun.\n",
    "#Bu durumlara göre kullanıcının yeni maaşını yazdıralım."
   ]
  },
  {
   "cell_type": "code",
   "execution_count": 1,
   "id": "d15d78f5",
   "metadata": {},
   "outputs": [
    {
     "name": "stdout",
     "output_type": "stream",
     "text": [
      "maşınızı giriniz:15000\n",
      "13500.0\n"
     ]
    }
   ],
   "source": [
    "maas=int(input('maşınızı giriniz:'))\n",
    "\n",
    "if maas<=10000 :\n",
    " print(maas*0.95)\n",
    "\n",
    "elif maas<=25000:\n",
    " print(maas*0.9)\n",
    "\n",
    "elif maas<=45000:\n",
    " print(maas*0.75)\n",
    "\n",
    "else :\n",
    " print(maas*0.7)"
   ]
  },
  {
   "cell_type": "code",
   "execution_count": null,
   "id": "50d99443",
   "metadata": {},
   "outputs": [],
   "source": [
    "# 2\n",
    "#Kullanıcıdan kullanıcı adı ve şifre oluşturmasını isteyin. \n",
    "#Şifrenin uzunluğu altı haneye ulaşmışsa hesabınız oluşturuldu mesajı alsın\n",
    "#altı haneden azsa altı haneli şifre oluşturması gerektiğinin mesajını alsın.(Sadece koşul kullanmanız yeterli.)"
   ]
  },
  {
   "cell_type": "code",
   "execution_count": 3,
   "id": "628a4270",
   "metadata": {},
   "outputs": [
    {
     "name": "stdout",
     "output_type": "stream",
     "text": [
      "Lütfen kullanıcı adınızı giriniz:zeyneperva\n",
      "Lütfen şifrenizi giriniz:123456\n",
      "Şifreniz başarıyla oluşturuldu!\n"
     ]
    }
   ],
   "source": [
    "kullaniciadi= input(\"Lütfen kullanıcı adınızı giriniz:\")\n",
    "sifre= input(\"Lütfen şirenizi giriniz:\")\n",
    "\n",
    "if len(sifre)==6:\n",
    " print(\"Şifreniz başarıyla oluşturuldu!\")\n",
    "else:\n",
    " print(\"Şifreniz 6 karakterden oluşmalıdır, lütfen tekrar deneyiniz.\")"
   ]
  },
  {
   "cell_type": "code",
   "execution_count": null,
   "id": "784033bf",
   "metadata": {},
   "outputs": [],
   "source": [
    "# 3\n",
    "#Bir önceki örneği geliştiriyoruz. \n",
    "#- Kullanıcı girdiği şifre 5 ve 10 hane arasında olmak zorunda olsun. \n",
    "#- Eğer bu koşula uyuyorsa \"Hesabınız oluşturuldu.\" mesajı alsın\n",
    "#- Koşulu sağlamıyorsa \"Lütfen girdiniz şifre 5 haneden az 1 haneden fazla olmasın!\" uyarısı alsın.\n",
    "#- Bunu oluştururken kullanıcı istediğimiz şartlarda şifre oluşturuna kadar sormaya devam etsin."
   ]
  },
  {
   "cell_type": "code",
   "execution_count": null,
   "id": "ad5e5178",
   "metadata": {},
   "outputs": [],
   "source": [
    "kullaniciadi= input(\"Lütfen kullanıcı adınızı giriniz:\")\n",
    "a=0\n",
    "while a==0:\n",
    "    pswd=input(\"Lütfen şifrenizi giriniz:\")\n",
    "    if 5<len(pswd)<10:\n",
    "        print(\"Hesabınız oluşturuldu!\")\n",
    "        a=1\n",
    "    else:\n",
    "        print(\"Lütfen girdiniz şifre 5 haneden az 10 haneden fazla olmasın\")\n",
    "        a=0  \n",
    "    \n"
   ]
  },
  {
   "cell_type": "code",
   "execution_count": null,
   "id": "2b221b21",
   "metadata": {},
   "outputs": [],
   "source": [
    "# 4\n",
    "#- Kullanıcıdan isim ve şifre isteyeceğiz ve şifre girişi için üç hak vereceğiz. \n",
    "#- Eğer önceden tanımlı şifre ile kullanıdan gelen şifre aynıysa \"Giriş yapıldı.\" yazsın. \n",
    "#- Şifre girişi yanlışşa \"Yanlış şifre girildi!\" uyarısı verilsin ve üç yanlış denemede program bitsin.\n",
    "#- Tercihe göre kalan hak bilgisi verilsin"
   ]
  },
  {
   "cell_type": "code",
   "execution_count": null,
   "id": "84df08d7",
   "metadata": {},
   "outputs": [],
   "source": [
    "sifre=123456\n",
    "kullanicadi=input(\"Kullanıcı adınızı giriniz:\")\n",
    "hak=3\n",
    "while hak>0:\n",
    "   parola= int(input(\"şifrenizi giriniz:\"))\n",
    "   if parola==sifre:\n",
    "      print(\"Parola doğrulandı,hoşgeldiniz.\")\n",
    "      break\n",
    "   else:\n",
    "      print(\"Yanlış parola,tekrar deneyiniz.\")\n",
    "      hak-=1\n",
    "      if hak>0:\n",
    "         print(hak,\"hakkınız kaldı.\") \n",
    "      else:\n",
    "         print(\"deneme hakkınız bitmiştir,daha sonra tekrar deneyiniz.\")"
   ]
  }
 ],
 "metadata": {
  "kernelspec": {
   "display_name": "Python 3 (ipykernel)",
   "language": "python",
   "name": "python3"
  },
  "language_info": {
   "codemirror_mode": {
    "name": "ipython",
    "version": 3
   },
   "file_extension": ".py",
   "mimetype": "text/x-python",
   "name": "python",
   "nbconvert_exporter": "python",
   "pygments_lexer": "ipython3",
   "version": "3.11.4"
  }
 },
 "nbformat": 4,
 "nbformat_minor": 5
}
