{
 "cells": [
  {
   "cell_type": "code",
   "execution_count": null,
   "id": "42a2e755",
   "metadata": {},
   "outputs": [],
   "source": [
    "# 1\n",
    "#Enumerate methodunu araştırın ve aşağıdaki örneği enumerate methodu ile yapın.\n",
    "for index in range(len(meyveler)):\n",
    "    print(\"{}. indexte bulunan meyve: {}\".format(index,meyveler[index]))"
   ]
  },
  {
   "cell_type": "code",
   "execution_count": 22,
   "id": "1597871c",
   "metadata": {},
   "outputs": [
    {
     "name": "stdout",
     "output_type": "stream",
     "text": [
      "0. indexte bulunan meyve: elma\n",
      "1. indexte bulunan meyve: armut\n",
      "2. indexte bulunan meyve: muz\n",
      "3. indexte bulunan meyve: kiraz\n",
      "4. indexte bulunan meyve: çilek\n",
      "5. indexte bulunan meyve: mandalina\n"
     ]
    }
   ],
   "source": [
    "meyveler=('elma','armut','muz','kiraz','çilek','mandalina')\n",
    "for index in range(len(meyveler)):\n",
    "    print(\"{}. indexte bulunan meyve: {}\".format(index,meyveler[index]))"
   ]
  },
  {
   "cell_type": "code",
   "execution_count": 26,
   "id": "ff6fff4e",
   "metadata": {},
   "outputs": [
    {
     "name": "stdout",
     "output_type": "stream",
     "text": [
      "[(0, 'elma'), (1, 'armut'), (2, 'muz'), (3, 'kiraz'), (4, 'çilek'), (5, 'mandalina')]\n"
     ]
    }
   ],
   "source": [
    "meyveler=['elma','armut','muz','kiraz','çilek','mandalina']\n",
    "enumerate_meyveler=enumerate(meyveler)\n",
    "print(list(enumerate_meyveler))"
   ]
  },
  {
   "cell_type": "code",
   "execution_count": 31,
   "id": "ce235968",
   "metadata": {},
   "outputs": [
    {
     "name": "stdout",
     "output_type": "stream",
     "text": [
      "0 . indexte bulunan meyve: elma\n",
      "1 . indexte bulunan meyve: armut\n",
      "2 . indexte bulunan meyve: muz\n",
      "3 . indexte bulunan meyve: kiraz\n",
      "4 . indexte bulunan meyve: çilek\n",
      "5 . indexte bulunan meyve: mandalina\n"
     ]
    }
   ],
   "source": [
    "meyveler=['elma','armut','muz','kiraz','çilek','mandalina']\n",
    "for index, meyveler in enumerate(meyveler, start=0):\n",
    "  print(index,\". indexte bulunan meyve:\",meyveler)"
   ]
  },
  {
   "cell_type": "code",
   "execution_count": null,
   "id": "5acb5ce9",
   "metadata": {},
   "outputs": [],
   "source": [
    "# 2\n",
    "#Aşagıdaki listede bulunan string veri tipindeki öğeleri yeni_liste isimli değişkene ekleyin.\n",
    "#liste = [\"Python\",True,9,\"3\",8.4,\"Hi-Kod\",\"False\",4.7]"
   ]
  },
  {
   "cell_type": "code",
   "execution_count": 5,
   "id": "f8e5d8f8",
   "metadata": {
    "scrolled": true
   },
   "outputs": [
    {
     "name": "stdout",
     "output_type": "stream",
     "text": [
      "['Python', True, 9, '3', 8.4, 'Hi-Kod', 'False', 4.7]\n"
     ]
    }
   ],
   "source": [
    "liste = [\"Python\",True,9,\"3\",8.4,\"Hi-Kod\",\"False\",4.7]\n",
    "print(liste)"
   ]
  },
  {
   "cell_type": "code",
   "execution_count": 18,
   "id": "0483522e",
   "metadata": {},
   "outputs": [],
   "source": [
    "string=liste[0::3]+['Hi-Kod']"
   ]
  },
  {
   "cell_type": "code",
   "execution_count": 19,
   "id": "bfed8121",
   "metadata": {},
   "outputs": [
    {
     "name": "stdout",
     "output_type": "stream",
     "text": [
      "['Python', '3', 'False', 'Hi-Kod']\n"
     ]
    }
   ],
   "source": [
    "print(string)"
   ]
  },
  {
   "cell_type": "code",
   "execution_count": 20,
   "id": "b9385bd9",
   "metadata": {},
   "outputs": [],
   "source": [
    "yeni_liste=[string]"
   ]
  },
  {
   "cell_type": "code",
   "execution_count": 21,
   "id": "010d54d9",
   "metadata": {},
   "outputs": [
    {
     "name": "stdout",
     "output_type": "stream",
     "text": [
      "[['Python', '3', 'False', 'Hi-Kod']]\n"
     ]
    }
   ],
   "source": [
    "print(yeni_liste)"
   ]
  }
 ],
 "metadata": {
  "kernelspec": {
   "display_name": "Python 3 (ipykernel)",
   "language": "python",
   "name": "python3"
  },
  "language_info": {
   "codemirror_mode": {
    "name": "ipython",
    "version": 3
   },
   "file_extension": ".py",
   "mimetype": "text/x-python",
   "name": "python",
   "nbconvert_exporter": "python",
   "pygments_lexer": "ipython3",
   "version": "3.11.4"
  }
 },
 "nbformat": 4,
 "nbformat_minor": 5
}
